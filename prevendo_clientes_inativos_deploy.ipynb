{
 "cells": [
  {
   "cell_type": "code",
   "execution_count": 1,
   "id": "a8bb11a4",
   "metadata": {},
   "outputs": [],
   "source": [
    "import numpy as np\n",
    "import pandas as pd\n",
    "import matplotlib.pyplot as plt\n",
    "import seaborn as sns\n",
    "import time\n",
    "from sklearn import preprocessing\n",
    "from sklearn.preprocessing import LabelEncoder\n",
    "from sklearn.model_selection import train_test_split\n",
    "from sklearn.preprocessing import RobustScaler\n",
    "from imblearn.over_sampling import SMOTENC\n",
    "from sklearn.model_selection import GridSearchCV\n",
    "from sklearn.metrics import classification_report\n",
    "from sklearn import metrics\n",
    "from sklearn.metrics import accuracy_score\n",
    "from sklearn import tree\n",
    "from sklearn.ensemble import RandomForestClassifier\n",
    "import warnings\n",
    "warnings.filterwarnings('ignore')"
   ]
  },
  {
   "cell_type": "code",
   "execution_count": 2,
   "id": "2672cf00",
   "metadata": {},
   "outputs": [],
   "source": [
    "df = pd.read_csv('bankchurners.csv')"
   ]
  },
  {
   "cell_type": "code",
   "execution_count": 3,
   "id": "75a832d1",
   "metadata": {},
   "outputs": [],
   "source": [
    "# retirando as duas ultimas colunas como sugerido pelo autor do dataset\n",
    "df = df.iloc[:, :-2]"
   ]
  },
  {
   "cell_type": "code",
   "execution_count": 4,
   "id": "f455b3c2",
   "metadata": {},
   "outputs": [],
   "source": [
    "# retirando coluna de clientnum\n",
    "df = df.iloc[:, 1:]"
   ]
  },
  {
   "cell_type": "code",
   "execution_count": 5,
   "id": "98a9ba21",
   "metadata": {},
   "outputs": [],
   "source": [
    "df.columns = ['attrition_flag', 'age', 'gender', 'dependent_count', 'education_level', 'marital_status', 'income_category',\n",
    "              'card_category', 'months_book', 'total_relationship_count', 'months_inactive_12_mon',\n",
    "              'contacts_count_12_mon', 'credit_limit', 'total_revolving_bal', 'avg_open_to_buy', 'total_amt_change_Q4_Q1',\n",
    "              'total_trans_amt', 'total_trans_ct', 'total_ct_change_Q4_Q1', 'avg_utilization_ratio']"
   ]
  },
  {
   "cell_type": "code",
   "execution_count": 6,
   "id": "a196d70c",
   "metadata": {},
   "outputs": [
    {
     "data": {
      "text/html": [
       "<div>\n",
       "<style scoped>\n",
       "    .dataframe tbody tr th:only-of-type {\n",
       "        vertical-align: middle;\n",
       "    }\n",
       "\n",
       "    .dataframe tbody tr th {\n",
       "        vertical-align: top;\n",
       "    }\n",
       "\n",
       "    .dataframe thead th {\n",
       "        text-align: right;\n",
       "    }\n",
       "</style>\n",
       "<table border=\"1\" class=\"dataframe\">\n",
       "  <thead>\n",
       "    <tr style=\"text-align: right;\">\n",
       "      <th></th>\n",
       "      <th>attrition_flag</th>\n",
       "      <th>age</th>\n",
       "      <th>gender</th>\n",
       "      <th>dependent_count</th>\n",
       "      <th>education_level</th>\n",
       "      <th>marital_status</th>\n",
       "      <th>income_category</th>\n",
       "      <th>card_category</th>\n",
       "      <th>months_book</th>\n",
       "      <th>total_relationship_count</th>\n",
       "      <th>months_inactive_12_mon</th>\n",
       "      <th>contacts_count_12_mon</th>\n",
       "      <th>credit_limit</th>\n",
       "      <th>total_revolving_bal</th>\n",
       "      <th>avg_open_to_buy</th>\n",
       "      <th>total_amt_change_Q4_Q1</th>\n",
       "      <th>total_trans_amt</th>\n",
       "      <th>total_trans_ct</th>\n",
       "      <th>total_ct_change_Q4_Q1</th>\n",
       "      <th>avg_utilization_ratio</th>\n",
       "    </tr>\n",
       "  </thead>\n",
       "  <tbody>\n",
       "    <tr>\n",
       "      <th>0</th>\n",
       "      <td>Existing Customer</td>\n",
       "      <td>45</td>\n",
       "      <td>M</td>\n",
       "      <td>3</td>\n",
       "      <td>High School</td>\n",
       "      <td>Married</td>\n",
       "      <td>$60K - $80K</td>\n",
       "      <td>Blue</td>\n",
       "      <td>39</td>\n",
       "      <td>5</td>\n",
       "      <td>1</td>\n",
       "      <td>3</td>\n",
       "      <td>12691.0</td>\n",
       "      <td>777</td>\n",
       "      <td>11914.0</td>\n",
       "      <td>1.335</td>\n",
       "      <td>1144</td>\n",
       "      <td>42</td>\n",
       "      <td>1.625</td>\n",
       "      <td>0.061</td>\n",
       "    </tr>\n",
       "    <tr>\n",
       "      <th>1</th>\n",
       "      <td>Existing Customer</td>\n",
       "      <td>49</td>\n",
       "      <td>F</td>\n",
       "      <td>5</td>\n",
       "      <td>Graduate</td>\n",
       "      <td>Single</td>\n",
       "      <td>Less than $40K</td>\n",
       "      <td>Blue</td>\n",
       "      <td>44</td>\n",
       "      <td>6</td>\n",
       "      <td>1</td>\n",
       "      <td>2</td>\n",
       "      <td>8256.0</td>\n",
       "      <td>864</td>\n",
       "      <td>7392.0</td>\n",
       "      <td>1.541</td>\n",
       "      <td>1291</td>\n",
       "      <td>33</td>\n",
       "      <td>3.714</td>\n",
       "      <td>0.105</td>\n",
       "    </tr>\n",
       "    <tr>\n",
       "      <th>2</th>\n",
       "      <td>Existing Customer</td>\n",
       "      <td>51</td>\n",
       "      <td>M</td>\n",
       "      <td>3</td>\n",
       "      <td>Graduate</td>\n",
       "      <td>Married</td>\n",
       "      <td>$80K - $120K</td>\n",
       "      <td>Blue</td>\n",
       "      <td>36</td>\n",
       "      <td>4</td>\n",
       "      <td>1</td>\n",
       "      <td>0</td>\n",
       "      <td>3418.0</td>\n",
       "      <td>0</td>\n",
       "      <td>3418.0</td>\n",
       "      <td>2.594</td>\n",
       "      <td>1887</td>\n",
       "      <td>20</td>\n",
       "      <td>2.333</td>\n",
       "      <td>0.000</td>\n",
       "    </tr>\n",
       "    <tr>\n",
       "      <th>3</th>\n",
       "      <td>Existing Customer</td>\n",
       "      <td>40</td>\n",
       "      <td>F</td>\n",
       "      <td>4</td>\n",
       "      <td>High School</td>\n",
       "      <td>Unknown</td>\n",
       "      <td>Less than $40K</td>\n",
       "      <td>Blue</td>\n",
       "      <td>34</td>\n",
       "      <td>3</td>\n",
       "      <td>4</td>\n",
       "      <td>1</td>\n",
       "      <td>3313.0</td>\n",
       "      <td>2517</td>\n",
       "      <td>796.0</td>\n",
       "      <td>1.405</td>\n",
       "      <td>1171</td>\n",
       "      <td>20</td>\n",
       "      <td>2.333</td>\n",
       "      <td>0.760</td>\n",
       "    </tr>\n",
       "  </tbody>\n",
       "</table>\n",
       "</div>"
      ],
      "text/plain": [
       "      attrition_flag  age gender  dependent_count education_level  \\\n",
       "0  Existing Customer   45      M                3     High School   \n",
       "1  Existing Customer   49      F                5        Graduate   \n",
       "2  Existing Customer   51      M                3        Graduate   \n",
       "3  Existing Customer   40      F                4     High School   \n",
       "\n",
       "  marital_status income_category card_category  months_book  \\\n",
       "0        Married     $60K - $80K          Blue           39   \n",
       "1         Single  Less than $40K          Blue           44   \n",
       "2        Married    $80K - $120K          Blue           36   \n",
       "3        Unknown  Less than $40K          Blue           34   \n",
       "\n",
       "   total_relationship_count  months_inactive_12_mon  contacts_count_12_mon  \\\n",
       "0                         5                       1                      3   \n",
       "1                         6                       1                      2   \n",
       "2                         4                       1                      0   \n",
       "3                         3                       4                      1   \n",
       "\n",
       "   credit_limit  total_revolving_bal  avg_open_to_buy  total_amt_change_Q4_Q1  \\\n",
       "0       12691.0                  777          11914.0                   1.335   \n",
       "1        8256.0                  864           7392.0                   1.541   \n",
       "2        3418.0                    0           3418.0                   2.594   \n",
       "3        3313.0                 2517            796.0                   1.405   \n",
       "\n",
       "   total_trans_amt  total_trans_ct  total_ct_change_Q4_Q1  \\\n",
       "0             1144              42                  1.625   \n",
       "1             1291              33                  3.714   \n",
       "2             1887              20                  2.333   \n",
       "3             1171              20                  2.333   \n",
       "\n",
       "   avg_utilization_ratio  \n",
       "0                  0.061  \n",
       "1                  0.105  \n",
       "2                  0.000  \n",
       "3                  0.760  "
      ]
     },
     "execution_count": 6,
     "metadata": {},
     "output_type": "execute_result"
    }
   ],
   "source": [
    "df.head(4)"
   ]
  },
  {
   "cell_type": "code",
   "execution_count": 7,
   "id": "67cb0574",
   "metadata": {},
   "outputs": [],
   "source": [
    "df = df[df['education_level'] != 'Unknown']\n",
    "df = df[df['marital_status'] != 'Unknown']\n",
    "df = df[df['income_category'] != 'Unknown']"
   ]
  },
  {
   "cell_type": "code",
   "execution_count": 8,
   "id": "9ccdf11a",
   "metadata": {},
   "outputs": [
    {
     "name": "stdout",
     "output_type": "stream",
     "text": [
      "O tamanho do dataset passa a ser de: 7081\n"
     ]
    }
   ],
   "source": [
    "print('O tamanho do dataset passa a ser de: ' + str(len(df)))"
   ]
  },
  {
   "cell_type": "markdown",
   "id": "efb1a907",
   "metadata": {},
   "source": [
    "### Transformação de Variáveis"
   ]
  },
  {
   "cell_type": "markdown",
   "id": "904302ea",
   "metadata": {},
   "source": [
    "#### Faremos Label Encoding"
   ]
  },
  {
   "cell_type": "code",
   "execution_count": 9,
   "id": "ebd12d98",
   "metadata": {},
   "outputs": [],
   "source": [
    "colunas = ['gender', 'education_level', 'income_category']\n",
    "la_gender = preprocessing.LabelEncoder().fit(df['gender'])\n",
    "la_education = preprocessing.LabelEncoder().fit(df['education_level'])\n",
    "la_income = preprocessing.LabelEncoder().fit(df['income_category'])"
   ]
  },
  {
   "cell_type": "code",
   "execution_count": 10,
   "id": "9514ac30",
   "metadata": {},
   "outputs": [],
   "source": [
    "df['gender'] = la_gender.transform(df['gender'])\n",
    "df['education_level'] = la_education.transform(df['education_level'])\n",
    "df['income_category'] = la_income.transform(df['income_category'])"
   ]
  },
  {
   "cell_type": "code",
   "execution_count": 11,
   "id": "4ccef7b1",
   "metadata": {},
   "outputs": [],
   "source": [
    "colunas = ['gender', 'education_level', 'income_category']\n",
    "for col in colunas:\n",
    "    df[col] = df[col].astype('category')"
   ]
  },
  {
   "cell_type": "code",
   "execution_count": 12,
   "id": "3b28dcef",
   "metadata": {},
   "outputs": [],
   "source": [
    "# Existing Customer == 0; Atrited Customer == 1\n",
    "df['attrition_flag'] = np.where(df['attrition_flag'] == 'Existing Customer', 0, 1)"
   ]
  },
  {
   "cell_type": "code",
   "execution_count": 13,
   "id": "ddf4a601",
   "metadata": {},
   "outputs": [],
   "source": [
    "df = df.drop(columns = ['marital_status', 'card_category'], axis = 1)"
   ]
  },
  {
   "cell_type": "code",
   "execution_count": 14,
   "id": "63b52826",
   "metadata": {},
   "outputs": [],
   "source": [
    "X = df.iloc[:, 1:]\n",
    "y = df.iloc[:, 0]"
   ]
  },
  {
   "cell_type": "code",
   "execution_count": 15,
   "id": "833397e2",
   "metadata": {},
   "outputs": [],
   "source": [
    "X_train, X_test, y_train, y_test = train_test_split(X, y, test_size = 0.3, random_state = 8)"
   ]
  },
  {
   "cell_type": "code",
   "execution_count": 16,
   "id": "357154c7",
   "metadata": {},
   "outputs": [
    {
     "name": "stdout",
     "output_type": "stream",
     "text": [
      "Tamanho do dataset de treino: 4956\n",
      "Tamanho do dataset de teste: 2125\n"
     ]
    }
   ],
   "source": [
    "print('Tamanho do dataset de treino: ' + str(len(X_train)))\n",
    "print('Tamanho do dataset de teste: ' + str(len(X_test)))"
   ]
  },
  {
   "cell_type": "code",
   "execution_count": 17,
   "id": "c6796fc9",
   "metadata": {},
   "outputs": [],
   "source": [
    "# moonths book\n",
    "colunas_norm = ['age', 'credit_limit', 'total_revolving_bal', 'avg_open_to_buy',\n",
    "                'total_amt_change_Q4_Q1', 'total_trans_amt', 'total_trans_ct', 'total_ct_change_Q4_Q1',\n",
    "                'avg_utilization_ratio']"
   ]
  },
  {
   "cell_type": "code",
   "execution_count": 18,
   "id": "d4c7330e",
   "metadata": {},
   "outputs": [],
   "source": [
    "scaler = preprocessing.RobustScaler().fit(X_train[colunas_norm])"
   ]
  },
  {
   "cell_type": "code",
   "execution_count": 19,
   "id": "107adfaa",
   "metadata": {},
   "outputs": [],
   "source": [
    "X_train[colunas_norm] = scaler.transform(X_train[colunas_norm])\n",
    "X_test[colunas_norm] = scaler.transform(X_test[colunas_norm])"
   ]
  },
  {
   "cell_type": "code",
   "execution_count": 20,
   "id": "29dfd296",
   "metadata": {},
   "outputs": [],
   "source": [
    "oversampled = SMOTENC(categorical_features = [1, 3, 4], random_state = 8)\n",
    "X_train, y_train = oversampled.fit_resample(X_train, y_train)"
   ]
  },
  {
   "cell_type": "markdown",
   "id": "17cc8ab6",
   "metadata": {},
   "source": [
    "### Machine Learning"
   ]
  },
  {
   "cell_type": "markdown",
   "id": "967d18d4",
   "metadata": {},
   "source": [
    "#### Funçoes com Metricas"
   ]
  },
  {
   "cell_type": "code",
   "execution_count": 21,
   "id": "f82f20ff",
   "metadata": {},
   "outputs": [],
   "source": [
    "def metricas_avaliacao(x, y, previsao, modelo, versao):\n",
    "    # mudei o y_test do acuracia pra y\n",
    "    acuracia = round(accuracy_score(y, previsao), 4)\n",
    "    roc_auc = metrics.roc_auc_score(y, previsao)\n",
    "    print('Esse é o ' + versao + ' do projeto!')\n",
    "    print('-' * 58)\n",
    "    print('A acurácia do modelo de ' + modelo + ' é: ' + str(round(acuracia, 4)))\n",
    "    print('O valor ROC-AUC do modelo de ' + modelo + ' é: ' + str(round(roc_auc, 4)))\n",
    "    print('-' * 58)\n",
    "    mat_confusao = metrics.confusion_matrix(y, previsao)\n",
    "    mat_confusao = pd.DataFrame(mat_confusao)\n",
    "    print(mat_confusao)\n",
    "    print('-' * 58)\n",
    "    nome_target = ['Cliente Ativo', 'Cliente Inativo']\n",
    "    print(classification_report(y, previsao, target_names = nome_target))\n",
    "    "
   ]
  },
  {
   "cell_type": "code",
   "execution_count": 22,
   "id": "28c4a668",
   "metadata": {},
   "outputs": [],
   "source": [
    "def roc_auc_curva(y, previsao, modelo):\n",
    "    fpr, tpr, thresholds = metrics.roc_curve(y, previsao)\n",
    "    roc_auc = metrics.roc_auc_score(y, previsao)\n",
    "    plt.title('ROC Curve do modelo: ' + modelo + '!')\n",
    "    plt.plot(fpr, tpr, 'b', label = 'AUC = %0.4f' % roc_auc)\n",
    "    plt.legend(loc = 'lower right')\n",
    "    plt.plot([0, 1], [0, 1], 'r--')\n",
    "    plt.xlim([0, 1])\n",
    "    plt.ylim([0, 1])\n",
    "    plt.xlabel('False Positive Rate')\n",
    "    plt.ylabel('True Positive Rate')\n",
    "    plt.show()"
   ]
  },
  {
   "cell_type": "code",
   "execution_count": 23,
   "id": "d4901658",
   "metadata": {},
   "outputs": [],
   "source": [
    "dicionario_resultados = []\n",
    "def resultados_modelos(test_y, previsao, nome_modelo):\n",
    "    acuracia_res = round(accuracy_score(test_y, previsao), 4)\n",
    "    roc_auc_res = round(metrics.roc_auc_score(test_y, previsao), 4)\n",
    "    dicionario_res = {'modelo' : nome_modelo, 'acuracia' : acuracia_res, 'roc_auc' : roc_auc_res}\n",
    "    dicionario_resultados.append(dicionario_res)\n",
    "    global df_resultados\n",
    "    df_resultados = pd.DataFrame(dicionario_resultados)\n",
    "    return df_resultados"
   ]
  },
  {
   "cell_type": "markdown",
   "id": "f3265d7b",
   "metadata": {},
   "source": [
    "#### Modelo Escolhido"
   ]
  },
  {
   "cell_type": "code",
   "execution_count": 24,
   "id": "49d85323",
   "metadata": {},
   "outputs": [],
   "source": [
    "selecao_variaveis = RandomForestClassifier(criterion = 'entropy',\n",
    "                                           n_estimators = 1500,\n",
    "                                           max_depth = 21,\n",
    "                                           random_state = 8, n_jobs = 12).fit(X_train, y_train)"
   ]
  },
  {
   "cell_type": "code",
   "execution_count": 25,
   "id": "04822a1d",
   "metadata": {},
   "outputs": [
    {
     "data": {
      "image/png": "[encoded data removed]",
      "text/plain": [
       "<Figure size 720x432 with 1 Axes>"
      ]
     },
     "metadata": {
      "needs_background": "light"
     },
     "output_type": "display_data"
    }
   ],
   "source": [
    "fig, ax = plt.subplots(figsize = (10, 6))\n",
    "rearrumando = selecao_variaveis.feature_importances_.argsort()\n",
    "plt.barh(selecao_variaveis.feature_names_in_[rearrumando], selecao_variaveis.feature_importances_[rearrumando])\n",
    "plt.title('Random Forest - Importância das Variáveis')\n",
    "ax.spines['top'].set_visible(False)\n",
    "ax.spines['right'].set_visible(False)\n",
    "plt.show();"
   ]
  },
  {
   "cell_type": "code",
   "execution_count": 26,
   "id": "bc2a0e10",
   "metadata": {},
   "outputs": [],
   "source": [
    "colunas_selecionadas = ['total_trans_ct', 'total_trans_amt', 'total_revolving_bal', 'total_ct_change_Q4_Q1',\n",
    "                        'total_amt_change_Q4_Q1', 'avg_utilization_ratio', 'total_relationship_count',\n",
    "                        'avg_open_to_buy', 'age', 'credit_limit', 'gender', 'dependent_count', 'education_level',\n",
    "                        'income_category']"
   ]
  },
  {
   "cell_type": "code",
   "execution_count": 27,
   "id": "da622166",
   "metadata": {},
   "outputs": [],
   "source": [
    "X_train_selecao = X_train[colunas_selecionadas]\n",
    "X_test_selecao = X_test[colunas_selecionadas]"
   ]
  },
  {
   "cell_type": "markdown",
   "id": "c8f0b396",
   "metadata": {},
   "source": [
    "#### Com GridSeachCV"
   ]
  },
  {
   "cell_type": "code",
   "execution_count": 28,
   "id": "c1fec363",
   "metadata": {},
   "outputs": [],
   "source": [
    "def grid_scores(x, versao):\n",
    "    print(f'Resultados do melhor modelo obtido com GridSearchCV para o modelo:', versao)\n",
    "    print('-' * 80)\n",
    "    print('Os melhores hiperparâmetros obtidos foram:')\n",
    "    print(x.best_params_)\n",
    "    print('-' * 80)\n",
    "    print('Resultados da métrica de Acurácia:\\n')\n",
    "    acc_media = round(x.cv_results_['mean_test_accuracy'][x.best_index_], 4)\n",
    "    print(f'Média da Accuracy é:', acc_media)\n",
    "    acc_std = round(x.cv_results_['std_test_accuracy'][x.best_index_], 4)\n",
    "    print(f'Desvio-padrão da Accuracy é:', acc_std)\n",
    "    print('-' * 80)\n",
    "    print('Resultados da métrica de ROC-AUC:\\n')\n",
    "    roc_auc_media = round(x.cv_results_['mean_test_roc_auc'][x.best_index_], 4)\n",
    "    print(f'Média do ROC-AUC é:', roc_auc_media)\n",
    "    roc_auc_std = round(x.cv_results_['std_test_roc_auc'][x.best_index_], 4)\n",
    "    print(f'Desvio-padrão do ROC-AUC é:', roc_auc_std)\n",
    "    \n",
    "    "
   ]
  },
  {
   "cell_type": "code",
   "execution_count": 29,
   "id": "fdda496f",
   "metadata": {},
   "outputs": [],
   "source": [
    "criterio = ['gini', 'entropy']\n",
    "estimacoes = [50, 100, 500, 1000, 1500]\n",
    "max_dep = [3, 5, 7, 9, 11, 13, 15, 17, 19, 21]"
   ]
  },
  {
   "cell_type": "code",
   "execution_count": 30,
   "id": "b5207d50",
   "metadata": {},
   "outputs": [
    {
     "name": "stdout",
     "output_type": "stream",
     "text": [
      "Wall time: 5min 36s\n"
     ]
    }
   ],
   "source": [
    "%%time\n",
    "busca_modelo = GridSearchCV(estimator = RandomForestClassifier(random_state = 8),\n",
    "                             param_grid = {'n_estimators' : estimacoes, 'criterion' : criterio, 'max_depth' : max_dep},\n",
    "                             n_jobs = -1, cv = 5, refit = 'roc_auc', \n",
    "                             scoring = ['accuracy', 'roc_auc']).fit(X_train_selecao, y_train)"
   ]
  },
  {
   "cell_type": "code",
   "execution_count": 31,
   "id": "01580a21",
   "metadata": {},
   "outputs": [
    {
     "name": "stdout",
     "output_type": "stream",
     "text": [
      "Resultados do melhor modelo obtido com GridSearchCV para o modelo: Random Forest com Seleção de Variáveis\n",
      "--------------------------------------------------------------------------------\n",
      "Os melhores hiperparâmetros obtidos foram:\n",
      "{'criterion': 'entropy', 'max_depth': 17, 'n_estimators': 500}\n",
      "--------------------------------------------------------------------------------\n",
      "Resultados da métrica de Acurácia:\n",
      "\n",
      "Média da Accuracy é: 0.9664\n",
      "Desvio-padrão da Accuracy é: 0.0037\n",
      "--------------------------------------------------------------------------------\n",
      "Resultados da métrica de ROC-AUC:\n",
      "\n",
      "Média do ROC-AUC é: 0.9946\n",
      "Desvio-padrão do ROC-AUC é: 0.0014\n"
     ]
    }
   ],
   "source": [
    "grid_scores(busca_modelo, 'Random Forest com Seleção de Variáveis')"
   ]
  },
  {
   "cell_type": "markdown",
   "id": "acd7ca71",
   "metadata": {},
   "source": [
    "#### Modelo Escolhido"
   ]
  },
  {
   "cell_type": "code",
   "execution_count": 28,
   "id": "f7fb0a64",
   "metadata": {},
   "outputs": [],
   "source": [
    "modelo = RandomForestClassifier(criterion = 'entropy',\n",
    "                                   n_estimators = 500,\n",
    "                                   max_depth = 17,\n",
    "                                   random_state = 8, n_jobs = 12).fit(X_train_selecao, y_train)\n",
    "previsao = modelo.predict(X_test_selecao)"
   ]
  },
  {
   "cell_type": "code",
   "execution_count": 29,
   "id": "fe66f83c",
   "metadata": {},
   "outputs": [
    {
     "name": "stdout",
     "output_type": "stream",
     "text": [
      "Esse é o sexto modelo do projeto!\n",
      "----------------------------------------------------------\n",
      "A acurácia do modelo de Random Forest - Com Seleção de Variáveis é: 0.9572\n",
      "O valor ROC-AUC do modelo de Random Forest - Com Seleção de Variáveis é: 0.9339\n",
      "----------------------------------------------------------\n",
      "      0    1\n",
      "0  1744   59\n",
      "1    32  290\n",
      "----------------------------------------------------------\n",
      "                 precision    recall  f1-score   support\n",
      "\n",
      "  Cliente Ativo       0.98      0.97      0.97      1803\n",
      "Cliente Inativo       0.83      0.90      0.86       322\n",
      "\n",
      "       accuracy                           0.96      2125\n",
      "      macro avg       0.91      0.93      0.92      2125\n",
      "   weighted avg       0.96      0.96      0.96      2125\n",
      "\n"
     ]
    }
   ],
   "source": [
    "metricas_avaliacao(X_test_selecao, y_test, previsao, 'Random Forest - Com Seleção de Variáveis', 'sexto modelo')"
   ]
  },
  {
   "cell_type": "code",
   "execution_count": 30,
   "id": "58aa2a92",
   "metadata": {},
   "outputs": [
    {
     "data": {
      "image/png": "[encoded data removed]",
      "text/plain": [
       "<Figure size 432x288 with 1 Axes>"
      ]
     },
     "metadata": {
      "needs_background": "light"
     },
     "output_type": "display_data"
    }
   ],
   "source": [
    "roc_auc_curva(y_test, previsao, 'Random Forest - Com Seleção de Variáveis')"
   ]
  },
  {
   "cell_type": "code",
   "execution_count": 31,
   "id": "b631682e",
   "metadata": {},
   "outputs": [
    {
     "data": {
      "text/html": [
       "<div>\n",
       "<style scoped>\n",
       "    .dataframe tbody tr th:only-of-type {\n",
       "        vertical-align: middle;\n",
       "    }\n",
       "\n",
       "    .dataframe tbody tr th {\n",
       "        vertical-align: top;\n",
       "    }\n",
       "\n",
       "    .dataframe thead th {\n",
       "        text-align: right;\n",
       "    }\n",
       "</style>\n",
       "<table border=\"1\" class=\"dataframe\">\n",
       "  <thead>\n",
       "    <tr style=\"text-align: right;\">\n",
       "      <th></th>\n",
       "      <th>modelo</th>\n",
       "      <th>acuracia</th>\n",
       "      <th>roc_auc</th>\n",
       "    </tr>\n",
       "  </thead>\n",
       "  <tbody>\n",
       "    <tr>\n",
       "      <th>0</th>\n",
       "      <td>XGRandom Forest - Com Seleção de Variáveis</td>\n",
       "      <td>0.9572</td>\n",
       "      <td>0.9339</td>\n",
       "    </tr>\n",
       "  </tbody>\n",
       "</table>\n",
       "</div>"
      ],
      "text/plain": [
       "                                       modelo  acuracia  roc_auc\n",
       "0  XGRandom Forest - Com Seleção de Variáveis    0.9572   0.9339"
      ]
     },
     "execution_count": 31,
     "metadata": {},
     "output_type": "execute_result"
    }
   ],
   "source": [
    "resultados_modelos(y_test, previsao, 'XGRandom Forest - Com Seleção de Variáveis')"
   ]
  },
  {
   "cell_type": "markdown",
   "id": "77fe5c7e",
   "metadata": {},
   "source": [
    "#### Salvando o modelo"
   ]
  },
  {
   "cell_type": "code",
   "execution_count": 32,
   "id": "36756b2c",
   "metadata": {},
   "outputs": [
    {
     "name": "stdout",
     "output_type": "stream",
     "text": [
      "Valor máximo: 134 e valor mínimo: 10 da variável total_trans_ct\n",
      "Valor máximo: 17995 e valor mínimo: 510 da variável total_trans_amt\n",
      "Valor máximo: 2517 e valor mínimo: 0 da variável total_revolving_bal\n",
      "Valor máximo: 3.714 e valor mínimo: 0.0 da variável total_ct_change_Q4_Q1\n",
      "Valor máximo: 3.397 e valor mínimo: 0.0 da variável total_amt_change_Q4_Q1\n",
      "Valor máximo: 0.999 e valor mínimo: 0.0 da variável avg_utilization_ratio\n",
      "Valor máximo: 6 e valor mínimo: 1 da variável total_relationship_count\n",
      "Valor máximo: 34516.0 e valor mínimo: 3.0 da variável avg_open_to_buy\n",
      "Valor máximo: 73 e valor mínimo: 26 da variável age\n",
      "Valor máximo: 34516.0 e valor mínimo: 1438.3 da variável credit_limit\n",
      "{'gender': Int64Index([0, 1], dtype='int64')}\n",
      "Valor máximo: 5 e valor mínimo: 0 da variável dependent_count\n",
      "{'education_level': Int64Index([0, 1, 2, 3, 4, 5], dtype='int64')}\n",
      "{'income_category': Int64Index([0, 1, 2, 3, 4], dtype='int64')}\n"
     ]
    }
   ],
   "source": [
    "colunas_selecionadas = ['total_trans_ct', 'total_trans_amt', 'total_revolving_bal', 'total_ct_change_Q4_Q1',\n",
    "                        'total_amt_change_Q4_Q1', 'avg_utilization_ratio', 'total_relationship_count',\n",
    "                        'avg_open_to_buy', 'age', 'credit_limit', 'gender', 'dependent_count', 'education_level',\n",
    "                        'income_category']\n",
    "\n",
    "for col in colunas_selecionadas:\n",
    "    if(df[col].dtype != 'category'):\n",
    "        print(f'Valor máximo: {np.max(df[col])} e valor mínimo: {np.min(df[col])} da variável {col}')\n",
    "    else:\n",
    "        print({col : df[col].cat.categories})"
   ]
  },
  {
   "cell_type": "code",
   "execution_count": 33,
   "id": "5f73734d",
   "metadata": {},
   "outputs": [
    {
     "data": {
      "text/html": [
       "<div>\n",
       "<style scoped>\n",
       "    .dataframe tbody tr th:only-of-type {\n",
       "        vertical-align: middle;\n",
       "    }\n",
       "\n",
       "    .dataframe tbody tr th {\n",
       "        vertical-align: top;\n",
       "    }\n",
       "\n",
       "    .dataframe thead th {\n",
       "        text-align: right;\n",
       "    }\n",
       "</style>\n",
       "<table border=\"1\" class=\"dataframe\">\n",
       "  <thead>\n",
       "    <tr style=\"text-align: right;\">\n",
       "      <th></th>\n",
       "      <th>total_trans_ct</th>\n",
       "      <th>total_trans_amt</th>\n",
       "      <th>total_revolving_bal</th>\n",
       "      <th>total_ct_change_Q4_Q1</th>\n",
       "      <th>total_amt_change_Q4_Q1</th>\n",
       "      <th>avg_utilization_ratio</th>\n",
       "      <th>total_relationship_count</th>\n",
       "      <th>avg_open_to_buy</th>\n",
       "      <th>age</th>\n",
       "      <th>credit_limit</th>\n",
       "      <th>gender</th>\n",
       "      <th>dependent_count</th>\n",
       "      <th>education_level</th>\n",
       "      <th>income_category</th>\n",
       "    </tr>\n",
       "  </thead>\n",
       "  <tbody>\n",
       "    <tr>\n",
       "      <th>0</th>\n",
       "      <td>-0.783784</td>\n",
       "      <td>-1.053837</td>\n",
       "      <td>0.056507</td>\n",
       "      <td>0.858369</td>\n",
       "      <td>0.017621</td>\n",
       "      <td>0.195219</td>\n",
       "      <td>6</td>\n",
       "      <td>0.026600</td>\n",
       "      <td>0.090909</td>\n",
       "      <td>0.068970</td>\n",
       "      <td>1</td>\n",
       "      <td>4</td>\n",
       "      <td>3</td>\n",
       "      <td>1</td>\n",
       "    </tr>\n",
       "    <tr>\n",
       "      <th>1</th>\n",
       "      <td>-0.945946</td>\n",
       "      <td>-0.849465</td>\n",
       "      <td>-0.876370</td>\n",
       "      <td>-1.051502</td>\n",
       "      <td>-1.480176</td>\n",
       "      <td>-0.372510</td>\n",
       "      <td>3</td>\n",
       "      <td>-0.211209</td>\n",
       "      <td>-0.727273</td>\n",
       "      <td>-0.335979</td>\n",
       "      <td>1</td>\n",
       "      <td>3</td>\n",
       "      <td>0</td>\n",
       "      <td>3</td>\n",
       "    </tr>\n",
       "    <tr>\n",
       "      <th>2</th>\n",
       "      <td>-0.972973</td>\n",
       "      <td>-0.874444</td>\n",
       "      <td>-0.006507</td>\n",
       "      <td>1.021459</td>\n",
       "      <td>0.859031</td>\n",
       "      <td>0.161355</td>\n",
       "      <td>5</td>\n",
       "      <td>0.032831</td>\n",
       "      <td>0.000000</td>\n",
       "      <td>0.064130</td>\n",
       "      <td>0</td>\n",
       "      <td>2</td>\n",
       "      <td>2</td>\n",
       "      <td>4</td>\n",
       "    </tr>\n",
       "    <tr>\n",
       "      <th>3</th>\n",
       "      <td>-0.837838</td>\n",
       "      <td>-0.400606</td>\n",
       "      <td>-0.876370</td>\n",
       "      <td>-0.858369</td>\n",
       "      <td>0.000000</td>\n",
       "      <td>-0.372510</td>\n",
       "      <td>6</td>\n",
       "      <td>-0.168948</td>\n",
       "      <td>-0.181818</td>\n",
       "      <td>-0.293303</td>\n",
       "      <td>0</td>\n",
       "      <td>2</td>\n",
       "      <td>2</td>\n",
       "      <td>4</td>\n",
       "    </tr>\n",
       "  </tbody>\n",
       "</table>\n",
       "</div>"
      ],
      "text/plain": [
       "   total_trans_ct  total_trans_amt  total_revolving_bal  \\\n",
       "0       -0.783784        -1.053837             0.056507   \n",
       "1       -0.945946        -0.849465            -0.876370   \n",
       "2       -0.972973        -0.874444            -0.006507   \n",
       "3       -0.837838        -0.400606            -0.876370   \n",
       "\n",
       "   total_ct_change_Q4_Q1  total_amt_change_Q4_Q1  avg_utilization_ratio  \\\n",
       "0               0.858369                0.017621               0.195219   \n",
       "1              -1.051502               -1.480176              -0.372510   \n",
       "2               1.021459                0.859031               0.161355   \n",
       "3              -0.858369                0.000000              -0.372510   \n",
       "\n",
       "   total_relationship_count  avg_open_to_buy       age  credit_limit gender  \\\n",
       "0                         6         0.026600  0.090909      0.068970      1   \n",
       "1                         3        -0.211209 -0.727273     -0.335979      1   \n",
       "2                         5         0.032831  0.000000      0.064130      0   \n",
       "3                         6        -0.168948 -0.181818     -0.293303      0   \n",
       "\n",
       "   dependent_count education_level income_category  \n",
       "0                4               3               1  \n",
       "1                3               0               3  \n",
       "2                2               2               4  \n",
       "3                2               2               4  "
      ]
     },
     "execution_count": 33,
     "metadata": {},
     "output_type": "execute_result"
    }
   ],
   "source": [
    "X_train_selecao.head(4)"
   ]
  },
  {
   "cell_type": "code",
   "execution_count": 34,
   "id": "e735511f",
   "metadata": {},
   "outputs": [],
   "source": [
    "lista = X_train_selecao.columns.to_list()"
   ]
  },
  {
   "cell_type": "code",
   "execution_count": 35,
   "id": "988732ad",
   "metadata": {},
   "outputs": [
    {
     "data": {
      "text/plain": [
       "['total_trans_ct',\n",
       " 'total_trans_amt',\n",
       " 'total_revolving_bal',\n",
       " 'total_ct_change_Q4_Q1',\n",
       " 'total_amt_change_Q4_Q1',\n",
       " 'avg_utilization_ratio',\n",
       " 'total_relationship_count',\n",
       " 'avg_open_to_buy',\n",
       " 'age',\n",
       " 'credit_limit',\n",
       " 'gender',\n",
       " 'dependent_count',\n",
       " 'education_level',\n",
       " 'income_category']"
      ]
     },
     "execution_count": 35,
     "metadata": {},
     "output_type": "execute_result"
    }
   ],
   "source": [
    "lista"
   ]
  },
  {
   "cell_type": "code",
   "execution_count": 75,
   "id": "082b86aa",
   "metadata": {},
   "outputs": [
    {
     "name": "stdout",
     "output_type": "stream",
     "text": [
      "Wall time: 179 ms\n"
     ]
    }
   ],
   "source": [
    "%%time\n",
    "resultados_ativo = 0\n",
    "resultados_inativo = 0\n",
    "# o range tem q lembrar que é exclusivo. entao coloca um a mais\n",
    "for i in range(1):\n",
    "    vetor_sem_transformar = [np.random.uniform(10, 134), np.random.uniform(510, 17995), np.random.uniform(0, 2517),\n",
    "                np.random.uniform(0, 3.71), np.random.uniform(0, 3.39), np.random.uniform(0, 0.99),\n",
    "                np.random.randint(1, 7), np.random.uniform(3, 34516), np.random.randint(26, 73),\n",
    "                np.random.uniform(1439, 34516), np.random.randint(0, 2), np.random.randint(0, 6),\n",
    "                np.random.randint(0, 6), np.random.randint(0, 5)]\n",
    "\n",
    "    vetor = np.array(vetor_sem_transformar)\n",
    "    vetor = vetor.reshape(1, -1)\n",
    "    d = pd.DataFrame(vetor, columns = [X_train_selecao.columns])\n",
    "\n",
    "    colunas_norm = ['age', 'credit_limit', 'total_revolving_bal', 'avg_open_to_buy',\n",
    "                        'total_amt_change_Q4_Q1', 'total_trans_amt', 'total_trans_ct', 'total_ct_change_Q4_Q1',\n",
    "                        'avg_utilization_ratio']\n",
    "\n",
    "    d[colunas_norm] = scaler.transform(d[colunas_norm])\n",
    "\n",
    "    vetor = np.array(d)\n",
    "    vetor = vetor.reshape(1, -1)\n",
    "    #modelo.predict(vetor)\n",
    "    modelo.predict_proba(vetor)\n",
    "    classe = modelo.predict(vetor)\n",
    "    proba = modelo.predict_proba(vetor)\n",
    "\n",
    "    #if (classe == 0):\n",
    "        #resultados_ativo += 1\n",
    "    #elif(classe == 1):\n",
    "        #resultados_inativo += 1\n",
    "    #else:\n",
    "        #pass"
   ]
  },
  {
   "cell_type": "code",
   "execution_count": 76,
   "id": "22d7444a",
   "metadata": {},
   "outputs": [],
   "source": [
    "#print(resultados_ativo)\n",
    "#print(resultados_inativo)"
   ]
  },
  {
   "cell_type": "code",
   "execution_count": 78,
   "id": "34417525",
   "metadata": {},
   "outputs": [
    {
     "name": "stdout",
     "output_type": "stream",
     "text": [
      "[1]\n",
      "[0.306 0.694]\n"
     ]
    }
   ],
   "source": [
    "print(classe)\n",
    "print(proba[0])"
   ]
  },
  {
   "cell_type": "markdown",
   "id": "ba23ea22",
   "metadata": {},
   "source": [
    "#### Salvando Modelo"
   ]
  },
  {
   "cell_type": "code",
   "execution_count": 43,
   "id": "fea927aa",
   "metadata": {},
   "outputs": [],
   "source": [
    "import pickle"
   ]
  },
  {
   "cell_type": "code",
   "execution_count": 44,
   "id": "a14e46fe",
   "metadata": {},
   "outputs": [],
   "source": [
    "#with open('modelo_treinado.pkl', 'wb') as f:\n",
    "    #pickle.dump(modelo, f)"
   ]
  },
  {
   "cell_type": "code",
   "execution_count": 45,
   "id": "261ac7a9",
   "metadata": {},
   "outputs": [],
   "source": [
    "#with open('scaler_treinado.pkl', 'wb') as f:\n",
    "    #pickle.dump(scaler, f)"
   ]
  },
  {
   "cell_type": "code",
   "execution_count": null,
   "id": "2d0032ab",
   "metadata": {},
   "outputs": [],
   "source": []
  }
 ],
 "metadata": {
  "kernelspec": {
   "display_name": "Python 3 (ipykernel)",
   "language": "python",
   "name": "python3"
  },
  "language_info": {
   "codemirror_mode": {
    "name": "ipython",
    "version": 3
   },
   "file_extension": ".py",
   "mimetype": "text/x-python",
   "name": "python",
   "nbconvert_exporter": "python",
   "pygments_lexer": "ipython3",
   "version": "3.9.7"
  }
 },
 "nbformat": 4,
 "nbformat_minor": 5
}
